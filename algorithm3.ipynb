{
 "cells": [
  {
   "cell_type": "code",
   "execution_count": 2,
   "id": "7af91b16-c436-4bdf-a1ef-fb64456fa1e2",
   "metadata": {},
   "outputs": [],
   "source": [
    "#IT Ticket Category Prediction\n",
    "#This dataset is about the IT Service Ticket Categeory Classification.\n",
    "#By accurately classifying tickets, IT teams can prioritize tasks, allocate resources effectively, \n",
    "#and streamline the resolution process.\n",
    "#The dataset contains ticket descriptions and category type as target field\n",
    "#We train the dataset on the descriptions and map it to the target field using Supervised learning.\n",
    "#The objective of the model is to classify which category a ticket should be assigned to.\n",
    "#The following cells gives a glance about the dataset used.\n",
    "\n",
    "#Name   : Ashwin Sai C\n",
    "#Course : NLP - CS6320-001\n",
    "#Title  : Text Classification using Logistic Regression, Naives Bayes and Neural Networks in Sklearn\n",
    "#Term   : Spring 2024\n",
    "\n"
   ]
  },
  {
   "cell_type": "code",
   "execution_count": 3,
   "id": "df917927-b10c-4ff3-85ac-1f371bd7e971",
   "metadata": {},
   "outputs": [
    {
     "name": "stdout",
     "output_type": "stream",
     "text": [
      "hi\n"
     ]
    }
   ],
   "source": [
    "import os\n",
    "import itertools\n",
    "import re\n",
    "from   collections import Counter\n",
    "import pandas as pd\n",
    "import numpy as np\n",
    "import matplotlib.pyplot as plt\n",
    "from   nltk.tokenize import word_tokenize\n",
    "from   nltk.corpus import stopwords\n",
    "from   nltk.stem import WordNetLemmatizer\n",
    "from   sklearn.feature_extraction.text import TfidfVectorizer\n",
    "from   sklearn.preprocessing import LabelEncoder\n",
    "from   sklearn.model_selection import train_test_split\n",
    "from   sklearn.linear_model import LogisticRegression\n",
    "from   sklearn.metrics import classification_report, accuracy_score\n",
    "from   sklearn.naive_bayes import MultinomialNB, GaussianNB, CategoricalNB, BernoulliNB\n",
    "from   sklearn.neural_network import MLPClassifier\n",
    "\n",
    "if __name__ == \"__main__\":\n",
    "\tprint(\"hi\")"
   ]
  },
  {
   "cell_type": "code",
   "execution_count": 4,
   "id": "b718562c-b10f-4072-ab2c-1c3fbcfbee03",
   "metadata": {},
   "outputs": [],
   "source": [
    "#Read the csv file\n",
    "file_name = \"all_tickets_processed_improved_v3.csv\"\n",
    "df = pd.read_csv(file_name)"
   ]
  },
  {
   "cell_type": "code",
   "execution_count": 5,
   "id": "8e9e268f-7e09-40d9-9df0-160e6b45ef5b",
   "metadata": {},
   "outputs": [
    {
     "data": {
      "text/html": [
       "<div>\n",
       "<style scoped>\n",
       "    .dataframe tbody tr th:only-of-type {\n",
       "        vertical-align: middle;\n",
       "    }\n",
       "\n",
       "    .dataframe tbody tr th {\n",
       "        vertical-align: top;\n",
       "    }\n",
       "\n",
       "    .dataframe thead th {\n",
       "        text-align: right;\n",
       "    }\n",
       "</style>\n",
       "<table border=\"1\" class=\"dataframe\">\n",
       "  <thead>\n",
       "    <tr style=\"text-align: right;\">\n",
       "      <th></th>\n",
       "      <th>Document</th>\n",
       "      <th>Topic_group</th>\n",
       "    </tr>\n",
       "  </thead>\n",
       "  <tbody>\n",
       "    <tr>\n",
       "      <th>0</th>\n",
       "      <td>connection with icon icon dear please setup ic...</td>\n",
       "      <td>Hardware</td>\n",
       "    </tr>\n",
       "    <tr>\n",
       "      <th>1</th>\n",
       "      <td>work experience user work experience user hi w...</td>\n",
       "      <td>Access</td>\n",
       "    </tr>\n",
       "    <tr>\n",
       "      <th>2</th>\n",
       "      <td>requesting for meeting requesting meeting hi p...</td>\n",
       "      <td>Hardware</td>\n",
       "    </tr>\n",
       "    <tr>\n",
       "      <th>3</th>\n",
       "      <td>reset passwords for external accounts re expir...</td>\n",
       "      <td>Access</td>\n",
       "    </tr>\n",
       "    <tr>\n",
       "      <th>4</th>\n",
       "      <td>mail verification warning hi has got attached ...</td>\n",
       "      <td>Miscellaneous</td>\n",
       "    </tr>\n",
       "  </tbody>\n",
       "</table>\n",
       "</div>"
      ],
      "text/plain": [
       "                                            Document    Topic_group\n",
       "0  connection with icon icon dear please setup ic...       Hardware\n",
       "1  work experience user work experience user hi w...         Access\n",
       "2  requesting for meeting requesting meeting hi p...       Hardware\n",
       "3  reset passwords for external accounts re expir...         Access\n",
       "4  mail verification warning hi has got attached ...  Miscellaneous"
      ]
     },
     "execution_count": 5,
     "metadata": {},
     "output_type": "execute_result"
    }
   ],
   "source": [
    "#Print the head data section first 5 rows\n",
    "#Sample data from the dataset IT Ticket category Prediction\n",
    "df.head()"
   ]
  },
  {
   "cell_type": "code",
   "execution_count": 6,
   "id": "c026f678-906a-425f-82ac-a00d2856d322",
   "metadata": {},
   "outputs": [
    {
     "data": {
      "text/html": [
       "<div>\n",
       "<style scoped>\n",
       "    .dataframe tbody tr th:only-of-type {\n",
       "        vertical-align: middle;\n",
       "    }\n",
       "\n",
       "    .dataframe tbody tr th {\n",
       "        vertical-align: top;\n",
       "    }\n",
       "\n",
       "    .dataframe thead th {\n",
       "        text-align: right;\n",
       "    }\n",
       "</style>\n",
       "<table border=\"1\" class=\"dataframe\">\n",
       "  <thead>\n",
       "    <tr style=\"text-align: right;\">\n",
       "      <th></th>\n",
       "      <th>Document</th>\n",
       "      <th>Topic_group</th>\n",
       "    </tr>\n",
       "  </thead>\n",
       "  <tbody>\n",
       "    <tr>\n",
       "      <th>count</th>\n",
       "      <td>47837</td>\n",
       "      <td>47837</td>\n",
       "    </tr>\n",
       "    <tr>\n",
       "      <th>unique</th>\n",
       "      <td>47837</td>\n",
       "      <td>8</td>\n",
       "    </tr>\n",
       "    <tr>\n",
       "      <th>top</th>\n",
       "      <td>connection with icon icon dear please setup ic...</td>\n",
       "      <td>Hardware</td>\n",
       "    </tr>\n",
       "    <tr>\n",
       "      <th>freq</th>\n",
       "      <td>1</td>\n",
       "      <td>13617</td>\n",
       "    </tr>\n",
       "  </tbody>\n",
       "</table>\n",
       "</div>"
      ],
      "text/plain": [
       "                                                 Document Topic_group\n",
       "count                                               47837       47837\n",
       "unique                                              47837           8\n",
       "top     connection with icon icon dear please setup ic...    Hardware\n",
       "freq                                                    1       13617"
      ]
     },
     "execution_count": 6,
     "metadata": {},
     "output_type": "execute_result"
    }
   ],
   "source": [
    "#Describe the data set\n",
    "df.describe()"
   ]
  },
  {
   "cell_type": "code",
   "execution_count": 7,
   "id": "58175eb0-2361-40c4-87ec-b2e041c50927",
   "metadata": {},
   "outputs": [
    {
     "name": "stdout",
     "output_type": "stream",
     "text": [
      "The list of IT Service Requests:\n",
      "\n"
     ]
    },
    {
     "data": {
      "text/plain": [
       "0        connection with icon icon dear please setup ic...\n",
       "1        work experience user work experience user hi w...\n",
       "2        requesting for meeting requesting meeting hi p...\n",
       "3        reset passwords for external accounts re expir...\n",
       "4        mail verification warning hi has got attached ...\n",
       "                               ...                        \n",
       "47832    git space for a project issues with adding use...\n",
       "47833    error sent july error hi guys can you help out...\n",
       "47834    connection issues sent tuesday july connection...\n",
       "47835    error cube reports sent tuesday july error hel...\n",
       "47836    running out on extensions hello please be advi...\n",
       "Name: Document, Length: 47837, dtype: object"
      ]
     },
     "execution_count": 7,
     "metadata": {},
     "output_type": "execute_result"
    }
   ],
   "source": [
    "print(\"The list of IT Service Requests:\\n\")\n",
    "df['Document']"
   ]
  },
  {
   "cell_type": "code",
   "execution_count": 8,
   "id": "196ecf78-ba83-4257-a8f5-c01173b11ebf",
   "metadata": {},
   "outputs": [
    {
     "name": "stdout",
     "output_type": "stream",
     "text": [
      "The list of Topic_group:\n",
      "\n"
     ]
    },
    {
     "data": {
      "text/plain": [
       "0             Hardware\n",
       "1               Access\n",
       "2             Hardware\n",
       "3               Access\n",
       "4        Miscellaneous\n",
       "             ...      \n",
       "47832           Access\n",
       "47833    Miscellaneous\n",
       "47834         Hardware\n",
       "47835       HR Support\n",
       "47836         Hardware\n",
       "Name: Topic_group, Length: 47837, dtype: object"
      ]
     },
     "execution_count": 8,
     "metadata": {},
     "output_type": "execute_result"
    }
   ],
   "source": [
    "print(\"The list of Topic_group:\\n\")\n",
    "df['Topic_group']"
   ]
  },
  {
   "cell_type": "code",
   "execution_count": 9,
   "id": "3209cfa5-0e97-46e5-9bb8-56ffbe5b0d87",
   "metadata": {},
   "outputs": [
    {
     "name": "stdout",
     "output_type": "stream",
     "text": [
      "The different types of Topic groups:\n",
      "\n",
      "{'Internal Project', 'Access', 'Storage', 'Purchase', 'Administrative rights', 'HR Support', 'Miscellaneous', 'Hardware'}\n"
     ]
    }
   ],
   "source": [
    "#Unique topic group\n",
    "topic_group_list = list(df['Topic_group'])\n",
    "unique_topic_set = set(topic_group_list)\n",
    "print(\"The different types of Topic groups:\\n\")\n",
    "print(unique_topic_set)"
   ]
  },
  {
   "cell_type": "markdown",
   "id": "8f04d6eb-bd61-44cb-bf0a-d59730d16feb",
   "metadata": {},
   "source": [
    "--------------------------------------------------------------------------------------------------------------------------------------------------------\n",
    "                                                                Data Visualization\n",
    "-------------------------------------------------------------------------------------------------------------------------------------------------------                                        "
   ]
  },
  {
   "cell_type": "code",
   "execution_count": 10,
   "id": "d631301c-e36b-471c-9101-70c9fe85c628",
   "metadata": {},
   "outputs": [
    {
     "data": {
      "image/png": "[encoded data removed]",
      "text/plain": [
       "<Figure size 800x500 with 1 Axes>"
      ]
     },
     "metadata": {},
     "output_type": "display_data"
    }
   ],
   "source": [
    "# Plot a bar chart of ticket categories and their counts\n",
    "plt.figure(figsize=(8, 5))\n",
    "df['Topic_group'].value_counts().plot(kind='bar', color='darkcyan')\n",
    "plt.title('Ticket Category vs Count')\n",
    "plt.xlabel('Ticket Cateogries')\n",
    "plt.ylabel('Count')\n",
    "plt.xticks(rotation=45)\n",
    "plt.show()"
   ]
  },
  {
   "cell_type": "code",
   "execution_count": 11,
   "id": "edab8880-a7ca-403f-8610-73c8ebcce567",
   "metadata": {},
   "outputs": [
    {
     "data": {
      "image/png": "[encoded data removed]",
      "text/plain": [
       "<Figure size 500x500 with 1 Axes>"
      ]
     },
     "metadata": {},
     "output_type": "display_data"
    }
   ],
   "source": [
    "# Plot a pie chart of topic group proportions\n",
    "plt.figure(figsize=(5, 5))\n",
    "df['Topic_group'].value_counts().plot(kind='pie', autopct='%1.1f%%', colors=['lightblue', 'lightgreen', 'lightcoral'])\n",
    "plt.title('Ticket Categories - Proportions')\n",
    "plt.ylabel('')\n",
    "plt.show()"
   ]
  },
  {
   "cell_type": "code",
   "execution_count": 12,
   "id": "b8800f8e-78d5-422e-971b-5336cd14f743",
   "metadata": {},
   "outputs": [
    {
     "name": "stdout",
     "output_type": "stream",
     "text": [
      "Data length (X, Y) is ( 47837 , 47837 )\n"
     ]
    }
   ],
   "source": [
    "X = list(df['Document'])\n",
    "Y = list(df['Topic_group'])\n",
    "\n",
    "print(\"Data length (X, Y) is (\",len(X),\",\",len(Y),\")\")"
   ]
  },
  {
   "cell_type": "markdown",
   "id": "b97152e0-5ec8-45bc-830c-ea5fe438e471",
   "metadata": {},
   "source": [
    "--------------------------------------------------------------------------------------------------------------------------------------------------------\n",
    "                                                                Data Preprocessing\n",
    "--------------------------------------------------------------------------------------------------------------------------------------------------------"
   ]
  },
  {
   "cell_type": "code",
   "execution_count": 13,
   "id": "f939c50e-bd38-43e0-8313-cf86c6840bee",
   "metadata": {},
   "outputs": [
    {
     "name": "stdout",
     "output_type": "stream",
     "text": [
      "----Lower casing of terms----\n",
      "----Tokenization of terms----\n",
      "----Filtering out alphanumeric terms----\n",
      "----Removing Stop words----\n",
      "----Lemmatization of terms----\n",
      "\n",
      "No. of Documents: 47837\n"
     ]
    }
   ],
   "source": [
    "#Data preprocessing\n",
    "\n",
    "#lower case the documents\n",
    "X_lower = [i.lower() for i in X]\n",
    "print(\"----Lower casing of terms----\")\n",
    "#Tokenization\n",
    "X_Tokens = [word_tokenize(i) for i in X_lower]\n",
    "print(\"----Tokenization of terms----\")\n",
    "#Removable of Punctuation and Non-Alpha\n",
    "X_alpha  = [[word for word in doc if word.isalnum()]for doc in X_Tokens]\n",
    "print(\"----Filtering out alphanumeric terms----\")\n",
    "#Removal of stop words\n",
    "stop_words = set(stopwords.words('english'))\n",
    "X_without_stopwords = [[word for word in doc if word not in stop_words]for doc in X_alpha]\n",
    "print(\"----Removing Stop words----\")\n",
    "#Lemmatize the words\n",
    "lemmatizer = WordNetLemmatizer()\n",
    "X_lemmas   = [[lemmatizer.lemmatize(word) for word in doc]for doc in X_without_stopwords]\n",
    "print(\"----Lemmatization of terms----\")\n",
    "\n",
    "print(\"\\nNo. of Documents:\",len(X_lemmas))"
   ]
  },
  {
   "cell_type": "markdown",
   "id": "dc948619-1861-4afb-9626-e966febbb55f",
   "metadata": {},
   "source": [
    "--------------------------------------------------------------------------------------------------------------------------------------------------------\n",
    "                                                            TF-IDF Data Processing\n",
    "--------------------------------------------------------------------------------------------------------------------------------------------------------"
   ]
  },
  {
   "cell_type": "code",
   "execution_count": 14,
   "id": "dbbdcd1a-b331-4878-b79f-33eab16e66d2",
   "metadata": {},
   "outputs": [
    {
     "name": "stdout",
     "output_type": "stream",
     "text": [
      "FEature matrix : (47837, 10495)\n",
      "Y Prediction   :  47837\n"
     ]
    }
   ],
   "source": [
    "#Using TF-IDF creating a Feature Matrix of words\n",
    "\n",
    "tfidf_vectorizer = TfidfVectorizer()\n",
    "X                = [\" \".join(item) for item in X_lemmas]\n",
    "X_tfidf          = tfidf_vectorizer.fit_transform(X)\n",
    "print(\"FEature matrix :\",X_tfidf.shape)\n",
    "\n",
    "\n",
    "#Using LabelEncoder converting Y values into unique integers\n",
    "# Encoding labels\n",
    "def Y_Encoder_function(Y):\n",
    "    label_encoder   = LabelEncoder()\n",
    "    y_encoded       = label_encoder.fit_transform(Y)\n",
    "\n",
    "    return y_encoded\n",
    "\n",
    "Y_encoded = Y_Encoder_function(Y)\n",
    "print(\"Y Prediction   : \",len(Y))\n"
   ]
  },
  {
   "cell_type": "markdown",
   "id": "e1af0815-8731-4eb4-832e-fa854fd043f6",
   "metadata": {},
   "source": [
    "--------------------------------------------------------------------------------------------------------------------------------------------------------\n",
    "                                                    Splitting the Datasets into Train and Test\n",
    "--------------------------------------------------------------------------------------------------------------------------------------------------------"
   ]
  },
  {
   "cell_type": "code",
   "execution_count": 15,
   "id": "8298ab19-ad5c-4e65-a9fb-27e722c90d13",
   "metadata": {},
   "outputs": [
    {
     "name": "stdout",
     "output_type": "stream",
     "text": [
      "No. of Full  Train rows :  (38269, 10495)   (38269,)\n",
      "No. of Final Test  rows :  (9568, 10495)   (9568,)\n",
      "\n",
      "Splitting Train data again into Train data and Validation data:\n",
      "No. of Train rows :  (30615, 10495)   (30615,)\n",
      "No. of Test  rows :  (7654, 10495)   (7654,)\n"
     ]
    }
   ],
   "source": [
    "#Splitting the TF-IDF data into Train and Test sets.\n",
    "X_train_val, X_test_final, y_train_val, y_test_final = train_test_split(X_tfidf, Y_encoded, test_size=0.2, random_state=42)\n",
    "print(\"No. of Full  Train rows : \",X_train_val.shape,\" \",y_train_val.shape)\n",
    "print(\"No. of Final Test  rows : \",X_test_final.shape,\" \",y_test_final.shape)\n",
    "\n",
    "#Further again spliting the Train data into Train-data and validation data\n",
    "\n",
    "X_train, X_test, y_train, y_test = train_test_split(X_train_val, y_train_val, test_size=0.2, random_state=42)\n",
    "print(\"\\nSplitting Train data again into Train data and Validation data:\")\n",
    "print(\"No. of Train rows : \",X_train.shape,\" \",y_train.shape)\n",
    "print(\"No. of Test  rows : \",X_test.shape,\" \",y_test.shape)\n"
   ]
  },
  {
   "cell_type": "markdown",
   "id": "5f530b64-032f-4c56-99eb-46bf43561231",
   "metadata": {},
   "source": [
    "--------------------------------------------------------------------------------------------------------------------------------------------------------\n",
    "                                                              Logistic Regression\n",
    "--------------------------------------------------------------------------------------------------------------------------------------------------------"
   ]
  },
  {
   "cell_type": "code",
   "execution_count": 18,
   "id": "8b7360c7-c1a7-405f-8294-a21fb34dc132",
   "metadata": {},
   "outputs": [
    {
     "name": "stdout",
     "output_type": "stream",
     "text": [
      "Training Model Accuracy:\n",
      "Logistic Regression\n",
      "\n",
      "              precision    recall  f1-score   support\n",
      "\n",
      "           0       0.88      0.87      0.88      1122\n",
      "           1       0.85      0.64      0.73       298\n",
      "           2       0.84      0.84      0.84      1772\n",
      "           3       0.79      0.86      0.83      2140\n",
      "           4       0.91      0.76      0.83       356\n",
      "           5       0.80      0.82      0.81      1114\n",
      "           6       0.97      0.89      0.93       396\n",
      "           7       0.92      0.88      0.90       456\n",
      "\n",
      "    accuracy                           0.84      7654\n",
      "   macro avg       0.87      0.82      0.84      7654\n",
      "weighted avg       0.84      0.84      0.84      7654\n",
      "\n",
      "Accuracy :  84.048 %\n"
     ]
    }
   ],
   "source": [
    "#Logistic Regression Algorithm : Train and Validation\n",
    "\n",
    "logreg_model = LogisticRegression(max_iter=1000,C=10)\n",
    "logreg_model.fit(X_train,y_train)\n",
    "\n",
    "y_pred       = logreg_model.predict(X_test)\n",
    "print(\"Training Model Accuracy:\")\n",
    "print(\"Logistic Regression\\n\")\n",
    "print(classification_report(y_test,y_pred))\n",
    "print(\"Accuracy : \",round(accuracy_score(y_test,y_pred),5)*100,\"%\")\n",
    "\n"
   ]
  },
  {
   "cell_type": "code",
   "execution_count": 19,
   "id": "299a290b-40cb-457b-aefa-0fc12a167589",
   "metadata": {},
   "outputs": [
    {
     "name": "stdout",
     "output_type": "stream",
     "text": [
      "Test Model Accuracy:\n",
      "Logistic Regression\n",
      "\n",
      "              precision    recall  f1-score   support\n",
      "\n",
      "           0       0.90      0.87      0.88      1455\n",
      "           1       0.82      0.70      0.75       342\n",
      "           2       0.83      0.83      0.83      2107\n",
      "           3       0.81      0.85      0.83      2760\n",
      "           4       0.90      0.82      0.86       451\n",
      "           5       0.80      0.84      0.82      1400\n",
      "           6       0.95      0.90      0.92       497\n",
      "           7       0.91      0.86      0.88       556\n",
      "\n",
      "    accuracy                           0.84      9568\n",
      "   macro avg       0.86      0.83      0.85      9568\n",
      "weighted avg       0.84      0.84      0.84      9568\n",
      "\n",
      "Accuracy :  84.197 %\n"
     ]
    }
   ],
   "source": [
    "#Logistic Regression Algorithm : Test\n",
    "\n",
    "logreg_model = LogisticRegression(max_iter=1000,C=10)\n",
    "logreg_model.fit(X_train_val,y_train_val)\n",
    "y_pred       = logreg_model.predict(X_test_final)\n",
    "print(\"Test Model Accuracy:\")\n",
    "print(\"Logistic Regression\\n\")\n",
    "print(classification_report(y_test_final,y_pred))\n",
    "print(\"Accuracy : \",round(accuracy_score(y_test_final,y_pred),5)*100,\"%\")"
   ]
  },
  {
   "cell_type": "code",
   "execution_count": 20,
   "id": "f5bb0383-abbb-4e25-ba07-ec1dd72b7bac",
   "metadata": {},
   "outputs": [
    {
     "name": "stdout",
     "output_type": "stream",
     "text": [
      "No. of unique words in documents:  10502\n"
     ]
    }
   ],
   "source": [
    "#Creating unique sorted list of words\n",
    "\n",
    "combined_unique_list        = list(itertools.chain.from_iterable(X_lemmas))\n",
    "word_count                  = Counter(combined_unique_list)\n",
    "word_count_sorted_by_values = dict(sorted(word_count.items(), key=lambda item: item[1], reverse=True))\n",
    "top_1000_words              = list(word_count_sorted_by_values.keys())[:1000]\n",
    "combined_unique_set         = set(combined_unique_list)\n",
    "sorted_set                  = sorted(combined_unique_set)\n",
    "\n",
    "print(\"No. of unique words in documents: \",len(sorted_set))"
   ]
  },
  {
   "cell_type": "markdown",
   "id": "222d1115-60cb-4590-b7b2-9c6eb829e4a7",
   "metadata": {},
   "source": [
    "--------------------------------------------------------------------------------------------------------------------------------------------------------\n",
    "                                                Data Representations : Bag of Words & Bernoulli Vector\n",
    "--------------------------------------------------------------------------------------------------------------------------------------------------------"
   ]
  },
  {
   "cell_type": "code",
   "execution_count": 21,
   "id": "880b1bcc-a439-42a8-9593-a391a3cef85f",
   "metadata": {},
   "outputs": [
    {
     "name": "stdout",
     "output_type": "stream",
     "text": [
      "Bag of words Matrix: instance vs features\n",
      "(47837, 1000)\n",
      "Bernoulli's Representation Matrix: instance vs features\n",
      "(47837, 1000)\n"
     ]
    }
   ],
   "source": [
    "#Trying out different data representation model for training and testing.\n",
    "#Bag of words Representation\n",
    "#Bernoulli Representation\n",
    "\n",
    "X_bag_of_words = []\n",
    "X_Bernoulli    = []\n",
    "Y              = list(df['Topic_group'])\n",
    "Y_encoded      = Y_Encoder_function(Y)\n",
    "\n",
    "for line in X_lemmas:\n",
    "    temp    = []\n",
    "    tempBER = []\n",
    "    for word in top_1000_words:\n",
    "        if word in line:\n",
    "            count    = line.count(word)\n",
    "            countBER = 1\n",
    "        else:\n",
    "            count    = 0\n",
    "            countBER = 0\n",
    "        temp.append(count)\n",
    "        tempBER.append(countBER)\n",
    "    X_bag_of_words.append(temp)\n",
    "    X_Bernoulli.append(tempBER)\n",
    "\n",
    "print(\"Bag of words Matrix: instance vs features\")\n",
    "X_bag_of_words_array = np.array(X_bag_of_words)\n",
    "print(X_bag_of_words_array.shape)\n",
    "print(\"Bernoulli's Representation Matrix: instance vs features\")\n",
    "X_Bernoulli_array    = np.array(X_Bernoulli)\n",
    "print(X_Bernoulli_array.shape)\n"
   ]
  },
  {
   "cell_type": "markdown",
   "id": "3857b0cb-4af5-4a20-9843-ac5221ae80e7",
   "metadata": {},
   "source": [
    "--------------------------------------------------------------------------------------------------------------------------------------------------------\n",
    "                                                        Naives Bayes : Multinomial\n",
    "--------------------------------------------------------------------------------------------------------------------------------------------------------"
   ]
  },
  {
   "cell_type": "code",
   "execution_count": 22,
   "id": "5f3a9c86-234b-4e5f-8301-62a977dae3e3",
   "metadata": {},
   "outputs": [
    {
     "name": "stdout",
     "output_type": "stream",
     "text": [
      "Model Accuracy:\n",
      "Multinomial Naives Bayes\n",
      "\n",
      "              precision    recall  f1-score   support\n",
      "\n",
      "           0       0.76      0.83      0.79      1455\n",
      "           1       0.56      0.75      0.64       342\n",
      "           2       0.83      0.67      0.74      2107\n",
      "           3       0.81      0.73      0.77      2760\n",
      "           4       0.64      0.85      0.73       451\n",
      "           5       0.71      0.75      0.73      1400\n",
      "           6       0.92      0.88      0.90       497\n",
      "           7       0.67      0.90      0.77       556\n",
      "\n",
      "    accuracy                           0.76      9568\n",
      "   macro avg       0.74      0.80      0.76      9568\n",
      "weighted avg       0.77      0.76      0.76      9568\n",
      "\n",
      "Accuracy :  75.993  %\n"
     ]
    }
   ],
   "source": [
    "#Naives Bayes Algorithm using Bag of words\n",
    "#Multinomial\n",
    "\n",
    "X_train, X_test, y_train, y_test = train_test_split(X_bag_of_words_array, Y_encoded, test_size=0.2, random_state=42)\n",
    "# X_train, X_test, y_train, y_test = train_test_split(X_Bernoulli_array, Y_encoded, test_size=0.2, random_state=42)\n",
    "\n",
    "nb_model = MultinomialNB()\n",
    "nb_model.fit(X_train,y_train)\n",
    "y_pred   = nb_model.predict(X_test)\n",
    "print(\"Model Accuracy:\")\n",
    "print(\"Multinomial Naives Bayes\\n\")\n",
    "print(classification_report(y_test,y_pred))\n",
    "print(\"Accuracy : \",round(accuracy_score(y_test,y_pred),5)*100,\" %\")\n"
   ]
  },
  {
   "cell_type": "markdown",
   "id": "2231cf06-2279-471a-9bfb-7e60238ef13d",
   "metadata": {},
   "source": [
    "--------------------------------------------------------------------------------------------------------------------------------------------------------\n",
    "                                                            Naives Bayes : Bernoulli\n",
    "--------------------------------------------------------------------------------------------------------------------------------------------------------"
   ]
  },
  {
   "cell_type": "code",
   "execution_count": 23,
   "id": "409f12e9-1e9b-40bf-941d-c136f68bf372",
   "metadata": {},
   "outputs": [
    {
     "name": "stdout",
     "output_type": "stream",
     "text": [
      "Model Accuracy:\n",
      "Bernoulli Naives Bayes\n",
      "\n",
      "              precision    recall  f1-score   support\n",
      "\n",
      "           0       0.49      0.79      0.61      1455\n",
      "           1       0.61      0.63      0.62       342\n",
      "           2       0.75      0.64      0.69      2107\n",
      "           3       0.75      0.56      0.64      2760\n",
      "           4       0.64      0.77      0.70       451\n",
      "           5       0.65      0.62      0.64      1400\n",
      "           6       0.97      0.85      0.91       497\n",
      "           7       0.62      0.79      0.70       556\n",
      "\n",
      "    accuracy                           0.66      9568\n",
      "   macro avg       0.69      0.71      0.69      9568\n",
      "weighted avg       0.69      0.66      0.66      9568\n",
      "\n",
      "Accuracy :  66.148  %\n"
     ]
    }
   ],
   "source": [
    "#Naives Bayes Algorithm using Bernoulli's Vector\n",
    "#Bernoulli\n",
    "\n",
    "# X_train, X_test, y_train, y_test = train_test_split(X_bag_of_words_array, Y_encoded, test_size=0.2, random_state=42)\n",
    "X_train, X_test, y_train, y_test = train_test_split(X_Bernoulli_array, Y_encoded, test_size=0.2, random_state=42)\n",
    "\n",
    "nb_model = BernoulliNB(fit_prior=True)\n",
    "nb_model.fit(X_train,y_train)\n",
    "y_pred   = nb_model.predict(X_test)\n",
    "print(\"Model Accuracy:\")\n",
    "print(\"Bernoulli Naives Bayes\\n\")\n",
    "print(classification_report(y_test,y_pred))\n",
    "print(\"Accuracy : \",round(accuracy_score(y_test,y_pred),5)*100,\" %\")\n"
   ]
  },
  {
   "cell_type": "markdown",
   "id": "05394587-71a4-4491-b2f3-b7b73c9bb931",
   "metadata": {},
   "source": [
    "--------------------------------------------------------------------------------------------------------------------------------------------------------\n",
    "                                                        Naives Bayes : Gaussian\n",
    "--------------------------------------------------------------------------------------------------------------------------------------------------------"
   ]
  },
  {
   "cell_type": "code",
   "execution_count": 24,
   "id": "95ba780a-0336-4dda-b2b9-87dc43741309",
   "metadata": {},
   "outputs": [
    {
     "name": "stdout",
     "output_type": "stream",
     "text": [
      "Model Accuracy:\n",
      "Gaussian Naives Bayes\n",
      "\n",
      "              precision    recall  f1-score   support\n",
      "\n",
      "           0       0.62      0.51      0.56      1455\n",
      "           1       0.23      0.61      0.33       342\n",
      "           2       0.71      0.50      0.59      2107\n",
      "           3       0.67      0.29      0.41      2760\n",
      "           4       0.27      0.76      0.40       451\n",
      "           5       0.54      0.28      0.37      1400\n",
      "           6       0.26      0.90      0.41       497\n",
      "           7       0.40      0.76      0.53       556\n",
      "\n",
      "    accuracy                           0.46      9568\n",
      "   macro avg       0.46      0.58      0.45      9568\n",
      "weighted avg       0.58      0.46      0.47      9568\n",
      "\n",
      "Accuracy :  46.363  %\n"
     ]
    }
   ],
   "source": [
    "#Naives Bayes Algorithm using Bernoulli's Vector\n",
    "#GaussianNB\n",
    "\n",
    "# X_train, X_test, y_train, y_test = train_test_split(X_bag_of_words_array, Y_encoded, test_size=0.2, random_state=42)\n",
    "X_train, X_test, y_train, y_test = train_test_split(X_Bernoulli_array, Y_encoded, test_size=0.2, random_state=42)\n",
    "\n",
    "nb_model = GaussianNB(var_smoothing=0.001)\n",
    "nb_model.fit(X_train,y_train)\n",
    "y_pred   = nb_model.predict(X_test)\n",
    "print(\"Model Accuracy:\")\n",
    "print(\"Gaussian Naives Bayes\\n\")\n",
    "print(classification_report(y_test,y_pred))\n",
    "print(\"Accuracy : \",round(accuracy_score(y_test,y_pred),5)*100,\" %\")\n"
   ]
  },
  {
   "cell_type": "markdown",
   "id": "fc025a7d-83ce-4a3a-9244-800259877968",
   "metadata": {},
   "source": [
    "--------------------------------------------------------------------------------------------------------------------------------------------------------\n",
    "                                                            Naives Bayes : Categorical\n",
    "--------------------------------------------------------------------------------------------------------------------------------------------------------"
   ]
  },
  {
   "cell_type": "code",
   "execution_count": 25,
   "id": "fe68fe19-4451-45de-b9f1-c168efadaa66",
   "metadata": {},
   "outputs": [
    {
     "name": "stdout",
     "output_type": "stream",
     "text": [
      "Model Accuracy:\n",
      "Categorical Naives Bayes\n",
      "\n",
      "              precision    recall  f1-score   support\n",
      "\n",
      "           0       0.49      0.79      0.61      1455\n",
      "           1       0.60      0.63      0.61       342\n",
      "           2       0.75      0.64      0.69      2107\n",
      "           3       0.74      0.56      0.64      2760\n",
      "           4       0.65      0.78      0.71       451\n",
      "           5       0.65      0.62      0.64      1400\n",
      "           6       0.97      0.85      0.91       497\n",
      "           7       0.62      0.79      0.69       556\n",
      "\n",
      "    accuracy                           0.66      9568\n",
      "   macro avg       0.69      0.71      0.69      9568\n",
      "weighted avg       0.69      0.66      0.66      9568\n",
      "\n",
      "Accuracy :  66.252  %\n"
     ]
    }
   ],
   "source": [
    "#Naives Bayes Algorithm using Bernoulli's Vector\n",
    "#CategoricalNB\n",
    "\n",
    "# X_train, X_test, y_train, y_test = train_test_split(X_bag_of_words_array, Y_encoded, test_size=0.2, random_state=42)\n",
    "X_train, X_test, y_train, y_test = train_test_split(X_Bernoulli_array, Y_encoded, test_size=0.2, random_state=42)\n",
    "\n",
    "nb_model = CategoricalNB(alpha=0.65)\n",
    "nb_model.fit(X_train,y_train)\n",
    "y_pred   = nb_model.predict(X_test)\n",
    "print(\"Model Accuracy:\")\n",
    "print(\"Categorical Naives Bayes\\n\")\n",
    "print(classification_report(y_test,y_pred))\n",
    "print(\"Accuracy : \",round(accuracy_score(y_test,y_pred),5)*100,\" %\")\n"
   ]
  },
  {
   "cell_type": "markdown",
   "id": "5bcbc6e3-8ac9-462e-9de5-9e9135aa7072",
   "metadata": {},
   "source": [
    "--------------------------------------------------------------------------------------------------------------------------------------------------------\n",
    "                                                Neural Networks : Using Bag of Words Representation\n",
    "--------------------------------------------------------------------------------------------------------------------------------------------------------"
   ]
  },
  {
   "cell_type": "code",
   "execution_count": 26,
   "id": "ed9a6e22-daa3-4923-aba0-6a08a0d5bf09",
   "metadata": {},
   "outputs": [
    {
     "name": "stdout",
     "output_type": "stream",
     "text": [
      "MLPClassifier Model\n",
      "Bag of Words Representation\n",
      "Accuracy :  84.114  %\n"
     ]
    }
   ],
   "source": [
    "#Neural Network sklearn using MultiLayer Perceptron Classifier\n",
    "#Using Bag of Words Representation\n",
    "\n",
    "n_layers = 200\n",
    "\n",
    "X_train, X_test, y_train, y_test = train_test_split(X_bag_of_words_array, Y_encoded, stratify=Y_encoded, random_state=42)\n",
    "\n",
    "clf = MLPClassifier(random_state=42, max_iter=100,activation='relu',hidden_layer_sizes=(n_layers, 650))\n",
    "clf.fit(X_train, y_train)\n",
    "clf.predict_proba(X_test)\n",
    "clf.predict(X_test)\n",
    "print(\"MLPClassifier Model\")\n",
    "print(\"Bag of Words Representation\")\n",
    "print(\"Accuracy : \",round(clf.score(X_test, y_test),5)*100,\" %\")"
   ]
  },
  {
   "cell_type": "code",
   "execution_count": 27,
   "id": "8b3b1f99-f061-4320-a213-70d98ebe65ee",
   "metadata": {},
   "outputs": [
    {
     "name": "stdout",
     "output_type": "stream",
     "text": [
      "Model Details: Using Bag of Words\n",
      "\n"
     ]
    },
    {
     "data": {
      "text/html": [
       "<style>#sk-container-id-1 {color: black;}#sk-container-id-1 pre{padding: 0;}#sk-container-id-1 div.sk-toggleable {background-color: white;}#sk-container-id-1 label.sk-toggleable__label {cursor: pointer;display: block;width: 100%;margin-bottom: 0;padding: 0.3em;box-sizing: border-box;text-align: center;}#sk-container-id-1 label.sk-toggleable__label-arrow:before {content: \"▸\";float: left;margin-right: 0.25em;color: #696969;}#sk-container-id-1 label.sk-toggleable__label-arrow:hover:before {color: black;}#sk-container-id-1 div.sk-estimator:hover label.sk-toggleable__label-arrow:before {color: black;}#sk-container-id-1 div.sk-toggleable__content {max-height: 0;max-width: 0;overflow: hidden;text-align: left;background-color: #f0f8ff;}#sk-container-id-1 div.sk-toggleable__content pre {margin: 0.2em;color: black;border-radius: 0.25em;background-color: #f0f8ff;}#sk-container-id-1 input.sk-toggleable__control:checked~div.sk-toggleable__content {max-height: 200px;max-width: 100%;overflow: auto;}#sk-container-id-1 input.sk-toggleable__control:checked~label.sk-toggleable__label-arrow:before {content: \"▾\";}#sk-container-id-1 div.sk-estimator input.sk-toggleable__control:checked~label.sk-toggleable__label {background-color: #d4ebff;}#sk-container-id-1 div.sk-label input.sk-toggleable__control:checked~label.sk-toggleable__label {background-color: #d4ebff;}#sk-container-id-1 input.sk-hidden--visually {border: 0;clip: rect(1px 1px 1px 1px);clip: rect(1px, 1px, 1px, 1px);height: 1px;margin: -1px;overflow: hidden;padding: 0;position: absolute;width: 1px;}#sk-container-id-1 div.sk-estimator {font-family: monospace;background-color: #f0f8ff;border: 1px dotted black;border-radius: 0.25em;box-sizing: border-box;margin-bottom: 0.5em;}#sk-container-id-1 div.sk-estimator:hover {background-color: #d4ebff;}#sk-container-id-1 div.sk-parallel-item::after {content: \"\";width: 100%;border-bottom: 1px solid gray;flex-grow: 1;}#sk-container-id-1 div.sk-label:hover label.sk-toggleable__label {background-color: #d4ebff;}#sk-container-id-1 div.sk-serial::before {content: \"\";position: absolute;border-left: 1px solid gray;box-sizing: border-box;top: 0;bottom: 0;left: 50%;z-index: 0;}#sk-container-id-1 div.sk-serial {display: flex;flex-direction: column;align-items: center;background-color: white;padding-right: 0.2em;padding-left: 0.2em;position: relative;}#sk-container-id-1 div.sk-item {position: relative;z-index: 1;}#sk-container-id-1 div.sk-parallel {display: flex;align-items: stretch;justify-content: center;background-color: white;position: relative;}#sk-container-id-1 div.sk-item::before, #sk-container-id-1 div.sk-parallel-item::before {content: \"\";position: absolute;border-left: 1px solid gray;box-sizing: border-box;top: 0;bottom: 0;left: 50%;z-index: -1;}#sk-container-id-1 div.sk-parallel-item {display: flex;flex-direction: column;z-index: 1;position: relative;background-color: white;}#sk-container-id-1 div.sk-parallel-item:first-child::after {align-self: flex-end;width: 50%;}#sk-container-id-1 div.sk-parallel-item:last-child::after {align-self: flex-start;width: 50%;}#sk-container-id-1 div.sk-parallel-item:only-child::after {width: 0;}#sk-container-id-1 div.sk-dashed-wrapped {border: 1px dashed gray;margin: 0 0.4em 0.5em 0.4em;box-sizing: border-box;padding-bottom: 0.4em;background-color: white;}#sk-container-id-1 div.sk-label label {font-family: monospace;font-weight: bold;display: inline-block;line-height: 1.2em;}#sk-container-id-1 div.sk-label-container {text-align: center;}#sk-container-id-1 div.sk-container {/* jupyter's `normalize.less` sets `[hidden] { display: none; }` but bootstrap.min.css set `[hidden] { display: none !important; }` so we also need the `!important` here to be able to override the default hidden behavior on the sphinx rendered scikit-learn.org. See: https://github.com/scikit-learn/scikit-learn/issues/21755 */display: inline-block !important;position: relative;}#sk-container-id-1 div.sk-text-repr-fallback {display: none;}</style><div id=\"sk-container-id-1\" class=\"sk-top-container\"><div class=\"sk-text-repr-fallback\"><pre>MLPClassifier(hidden_layer_sizes=(200, 650), max_iter=100, random_state=42)</pre><b>In a Jupyter environment, please rerun this cell to show the HTML representation or trust the notebook. <br />On GitHub, the HTML representation is unable to render, please try loading this page with nbviewer.org.</b></div><div class=\"sk-container\" hidden><div class=\"sk-item\"><div class=\"sk-estimator sk-toggleable\"><input class=\"sk-toggleable__control sk-hidden--visually\" id=\"sk-estimator-id-1\" type=\"checkbox\" checked><label for=\"sk-estimator-id-1\" class=\"sk-toggleable__label sk-toggleable__label-arrow\">MLPClassifier</label><div class=\"sk-toggleable__content\"><pre>MLPClassifier(hidden_layer_sizes=(200, 650), max_iter=100, random_state=42)</pre></div></div></div></div></div>"
      ],
      "text/plain": [
       "MLPClassifier(hidden_layer_sizes=(200, 650), max_iter=100, random_state=42)"
      ]
     },
     "execution_count": 27,
     "metadata": {},
     "output_type": "execute_result"
    }
   ],
   "source": [
    "print(\"Model Details: Using Bag of Words\\n\")\n",
    "clf"
   ]
  },
  {
   "cell_type": "markdown",
   "id": "823fb657-6c5f-42f0-a663-5aefe4c5e951",
   "metadata": {},
   "source": [
    "--------------------------------------------------------------------------------------------------------------------------------------------------------\n",
    "                                                Neural Network : Using Bernoulli Vector Representation\n",
    "--------------------------------------------------------------------------------------------------------------------------------------------------------"
   ]
  },
  {
   "cell_type": "code",
   "execution_count": 28,
   "id": "be1fc1de-048f-4e5d-8384-5cea108cec39",
   "metadata": {},
   "outputs": [
    {
     "name": "stdout",
     "output_type": "stream",
     "text": [
      "MLPClassifier Model\n",
      "Bernoulli's Representation\n",
      "Accuracy :  80.192  %\n"
     ]
    }
   ],
   "source": [
    "#Neural Network sklearn using MultiLayer Perceptron Classifier\n",
    "#Using Bernoulli's Representation\n",
    "\n",
    "n_layers = 100\n",
    "\n",
    "X_train, X_test, y_train, y_test = train_test_split(X_Bernoulli_array, Y_encoded, stratify=Y_encoded, random_state=42)\n",
    "\n",
    "clf = MLPClassifier(random_state=42, max_iter=100,activation='tanh',hidden_layer_sizes=(n_layers, 150))\n",
    "clf.fit(X_train, y_train)\n",
    "clf.predict_proba(X_test)\n",
    "clf.predict(X_test)\n",
    "print(\"MLPClassifier Model\")\n",
    "print(\"Bernoulli's Representation\")\n",
    "print(\"Accuracy : \",round(clf.score(X_test, y_test),5)*100,\" %\")"
   ]
  },
  {
   "cell_type": "code",
   "execution_count": 29,
   "id": "73d86753-2d9f-4918-8074-4bee6851ef7f",
   "metadata": {},
   "outputs": [
    {
     "name": "stdout",
     "output_type": "stream",
     "text": [
      "Model Details: Using Bernoulli's Representation\n",
      "\n"
     ]
    },
    {
     "data": {
      "text/html": [
       "<style>#sk-container-id-2 {color: black;}#sk-container-id-2 pre{padding: 0;}#sk-container-id-2 div.sk-toggleable {background-color: white;}#sk-container-id-2 label.sk-toggleable__label {cursor: pointer;display: block;width: 100%;margin-bottom: 0;padding: 0.3em;box-sizing: border-box;text-align: center;}#sk-container-id-2 label.sk-toggleable__label-arrow:before {content: \"▸\";float: left;margin-right: 0.25em;color: #696969;}#sk-container-id-2 label.sk-toggleable__label-arrow:hover:before {color: black;}#sk-container-id-2 div.sk-estimator:hover label.sk-toggleable__label-arrow:before {color: black;}#sk-container-id-2 div.sk-toggleable__content {max-height: 0;max-width: 0;overflow: hidden;text-align: left;background-color: #f0f8ff;}#sk-container-id-2 div.sk-toggleable__content pre {margin: 0.2em;color: black;border-radius: 0.25em;background-color: #f0f8ff;}#sk-container-id-2 input.sk-toggleable__control:checked~div.sk-toggleable__content {max-height: 200px;max-width: 100%;overflow: auto;}#sk-container-id-2 input.sk-toggleable__control:checked~label.sk-toggleable__label-arrow:before {content: \"▾\";}#sk-container-id-2 div.sk-estimator input.sk-toggleable__control:checked~label.sk-toggleable__label {background-color: #d4ebff;}#sk-container-id-2 div.sk-label input.sk-toggleable__control:checked~label.sk-toggleable__label {background-color: #d4ebff;}#sk-container-id-2 input.sk-hidden--visually {border: 0;clip: rect(1px 1px 1px 1px);clip: rect(1px, 1px, 1px, 1px);height: 1px;margin: -1px;overflow: hidden;padding: 0;position: absolute;width: 1px;}#sk-container-id-2 div.sk-estimator {font-family: monospace;background-color: #f0f8ff;border: 1px dotted black;border-radius: 0.25em;box-sizing: border-box;margin-bottom: 0.5em;}#sk-container-id-2 div.sk-estimator:hover {background-color: #d4ebff;}#sk-container-id-2 div.sk-parallel-item::after {content: \"\";width: 100%;border-bottom: 1px solid gray;flex-grow: 1;}#sk-container-id-2 div.sk-label:hover label.sk-toggleable__label {background-color: #d4ebff;}#sk-container-id-2 div.sk-serial::before {content: \"\";position: absolute;border-left: 1px solid gray;box-sizing: border-box;top: 0;bottom: 0;left: 50%;z-index: 0;}#sk-container-id-2 div.sk-serial {display: flex;flex-direction: column;align-items: center;background-color: white;padding-right: 0.2em;padding-left: 0.2em;position: relative;}#sk-container-id-2 div.sk-item {position: relative;z-index: 1;}#sk-container-id-2 div.sk-parallel {display: flex;align-items: stretch;justify-content: center;background-color: white;position: relative;}#sk-container-id-2 div.sk-item::before, #sk-container-id-2 div.sk-parallel-item::before {content: \"\";position: absolute;border-left: 1px solid gray;box-sizing: border-box;top: 0;bottom: 0;left: 50%;z-index: -1;}#sk-container-id-2 div.sk-parallel-item {display: flex;flex-direction: column;z-index: 1;position: relative;background-color: white;}#sk-container-id-2 div.sk-parallel-item:first-child::after {align-self: flex-end;width: 50%;}#sk-container-id-2 div.sk-parallel-item:last-child::after {align-self: flex-start;width: 50%;}#sk-container-id-2 div.sk-parallel-item:only-child::after {width: 0;}#sk-container-id-2 div.sk-dashed-wrapped {border: 1px dashed gray;margin: 0 0.4em 0.5em 0.4em;box-sizing: border-box;padding-bottom: 0.4em;background-color: white;}#sk-container-id-2 div.sk-label label {font-family: monospace;font-weight: bold;display: inline-block;line-height: 1.2em;}#sk-container-id-2 div.sk-label-container {text-align: center;}#sk-container-id-2 div.sk-container {/* jupyter's `normalize.less` sets `[hidden] { display: none; }` but bootstrap.min.css set `[hidden] { display: none !important; }` so we also need the `!important` here to be able to override the default hidden behavior on the sphinx rendered scikit-learn.org. See: https://github.com/scikit-learn/scikit-learn/issues/21755 */display: inline-block !important;position: relative;}#sk-container-id-2 div.sk-text-repr-fallback {display: none;}</style><div id=\"sk-container-id-2\" class=\"sk-top-container\"><div class=\"sk-text-repr-fallback\"><pre>MLPClassifier(activation=&#x27;tanh&#x27;, hidden_layer_sizes=(100, 150), max_iter=100,\n",
       "              random_state=42)</pre><b>In a Jupyter environment, please rerun this cell to show the HTML representation or trust the notebook. <br />On GitHub, the HTML representation is unable to render, please try loading this page with nbviewer.org.</b></div><div class=\"sk-container\" hidden><div class=\"sk-item\"><div class=\"sk-estimator sk-toggleable\"><input class=\"sk-toggleable__control sk-hidden--visually\" id=\"sk-estimator-id-2\" type=\"checkbox\" checked><label for=\"sk-estimator-id-2\" class=\"sk-toggleable__label sk-toggleable__label-arrow\">MLPClassifier</label><div class=\"sk-toggleable__content\"><pre>MLPClassifier(activation=&#x27;tanh&#x27;, hidden_layer_sizes=(100, 150), max_iter=100,\n",
       "              random_state=42)</pre></div></div></div></div></div>"
      ],
      "text/plain": [
       "MLPClassifier(activation='tanh', hidden_layer_sizes=(100, 150), max_iter=100,\n",
       "              random_state=42)"
      ]
     },
     "execution_count": 29,
     "metadata": {},
     "output_type": "execute_result"
    }
   ],
   "source": [
    "print(\"Model Details: Using Bernoulli's Representation\\n\")\n",
    "clf"
   ]
  },
  {
   "attachments": {},
   "cell_type": "markdown",
   "id": "7a94c258-853e-4b9e-9922-d522070c74be",
   "metadata": {},
   "source": [
    "Performance Analysis:\n",
    "\n",
    "Algorithm                                                Accuracy(%)\n",
    "\n",
    "Logistic Regression                        :             84.19 %  \n",
    "\n",
    "Naives Bayes using Multinomial             :             75.99 % \n",
    "\n",
    "Naives Bayes using Bernoulli               :             66.15 % \n",
    "\n",
    "Naives Bayes using Gaussian                :             46.36 % \n",
    "\n",
    "Naives Bayes using Categorical             :             66.25 % \n",
    "\n",
    "Neural Networks using Bag of Words         :             85.24 % \n",
    "\n",
    "Neural Networks using Bernoulli's Vector   :             81.60 % \n",
    "\n"
   ]
  },
  {
   "cell_type": "markdown",
   "id": "8c76a33d-78e8-40a8-a69b-2f397fd768c7",
   "metadata": {},
   "source": [
    "Logistic Regression: \n",
    "\n",
    "Achieves an accuracy of 84.19%. Logistic Regression is a simple yet effective linear classifier suitable for binary and multi-class classification tasks. It performs well when the relationship between features and target variable is approximately linear and when the classes are linearly separable.\n"
   ]
  },
  {
   "cell_type": "markdown",
   "id": "c2a4b9dd-c3d3-491f-992e-e2604434a70f",
   "metadata": {},
   "source": [
    "Naive Bayes:\n",
    "\n",
    "Multinomial Naive Bayes:\n",
    "Multinomial Naive Bayes is commonly used for text classification tasks, especially when dealing with word frequency features. It assumes independence between features, which might not always hold true for text data. However, it performs well when the assumption of conditional independence is reasonable, and it handles sparse data efficiently.\n",
    "\n",
    "Bernoulli Naive Bayes:\n",
    "Bernoulli Naive Bayes is suitable for binary feature data, often used in binary text classification tasks. It models the presence or absence of each term in the document but may struggle with capturing the frequency information, which could lead to lower performance compared to Multinomial Naive Bayes which is correct with the above datasets.\n",
    "\n",
    "Gaussian Naive Bayes:\n",
    "Gaussian Naive Bayes assumes that features follow a Gaussian distribution, which is not typically the case for text data. Text data is sparse and discrete, making the Gaussian assumption inappropriate. This model may struggle to capture the underlying patterns in text data, leading to poor performance, which is also true based on the data above datasets.\n",
    "\n",
    "Categorical Naive Bayes:\n",
    "Categorical Naive Bayes is suitable for categorical features, which might represent different types of attributes in the text. It could perform reasonably well when the features are categorical rather than frequency-based or binary.\n",
    "\n",
    "Decreasing order of Accuracy in Naives Bayes: Multinomial > Categorical > Bernoulli > Gaussian"
   ]
  },
  {
   "cell_type": "markdown",
   "id": "a73cc535-ecc6-4aa0-b3e6-4dcf573dc5f3",
   "metadata": {},
   "source": [
    "Neural Networks:\n",
    "\n",
    "Neural Networks, especially network models can effectively capture complex patterns in text data. Bag of Words representation, although simplistic, provides a dense representation of the text that neural networks can learn from. The flexibility and non-linearity of neural networks make them powerful for text classification tasks.\n",
    "\n",
    "Using Bernoulli's Vector might refer to using a neural network with binary input features, similar to Bernoulli Naive Bayes. Neural networks can learn complex relationships between features, which could lead to better performance compared to the simpler assumptions made by Bernoulli Naive Bayes. However, it may not capture the frequency information as effectively as Bag of Words representation used in the previous neural network model. This indicates lower performance of this model compared to using Bag of words.\n",
    "\n"
   ]
  },
  {
   "cell_type": "markdown",
   "id": "85654e5c-df44-496a-b634-7dc8c907d2fd",
   "metadata": {},
   "source": [
    "Based on the provided accuracies, Logistic Regression and Neural Networks using Bag of Words achieve the highest accuracies among the listed models, indicating their effectiveness in text classification tasks. Naive Bayes models perform reasonably well but may not capture complex patterns as effectively as neural networks. Gaussian Naive Bayes, in particular, seems to perform poorly, which is not surprising given its assumption of features following a Gaussian distribution, which is not typically the case for text data."
   ]
  },
  {
   "cell_type": "code",
   "execution_count": null,
   "id": "ec5978fa-b907-457e-bc4b-3a1470371163",
   "metadata": {},
   "outputs": [],
   "source": []
  }
 ],
 "metadata": {
  "kernelspec": {
   "display_name": "Python 3 (ipykernel)",
   "language": "python",
   "name": "python3"
  },
  "language_info": {
   "codemirror_mode": {
    "name": "ipython",
    "version": 3
   },
   "file_extension": ".py",
   "mimetype": "text/x-python",
   "name": "python",
   "nbconvert_exporter": "python",
   "pygments_lexer": "ipython3",
   "version": "3.11.5"
  }
 },
 "nbformat": 4,
 "nbformat_minor": 5
}
